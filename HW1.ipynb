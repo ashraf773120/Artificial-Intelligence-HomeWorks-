{
 "cells": [
  {
   "cell_type": "code",
   "execution_count": 1,
   "metadata": {},
   "outputs": [],
   "source": [
    "def dfs(graph, start, goal, path=None):\n",
    "    if path is None:\n",
    "        path = []\n",
    "\n",
    "    path.append(start)\n",
    "\n",
    "    if start == goal:\n",
    "        return path\n",
    "\n",
    "    for neighbor in graph[start]:\n",
    "        if neighbor not in path:\n",
    "            result = dfs(graph, neighbor, goal, path)\n",
    "            if result:\n",
    "                return result\n",
    "\n",
    "    path.pop()\n",
    "    return None\n",
    "\n"
   ]
  },
  {
   "cell_type": "code",
   "execution_count": 2,
   "metadata": {},
   "outputs": [],
   "source": [
    "# examble \n",
    "graph = {\n",
    "    'A': ['B', 'C', 'D'],\n",
    "    'B': ['E', 'F'],\n",
    "    'C': ['G'],\n",
    "    'D': [],\n",
    "    'E': [],\n",
    "    'F': [],\n",
    "    'G': []\n",
    "}\n",
    "\n"
   ]
  },
  {
   "cell_type": "code",
   "execution_count": 3,
   "metadata": {},
   "outputs": [],
   "source": [
    "start_node = 'A'\n",
    "goal_node = 'G'\n",
    "\n"
   ]
  },
  {
   "cell_type": "code",
   "execution_count": 4,
   "metadata": {},
   "outputs": [
    {
     "name": "stdout",
     "output_type": "stream",
     "text": [
      "The path from A to G is: ['A', 'C', 'G']\n"
     ]
    }
   ],
   "source": [
    "path = dfs(graph, start_node, goal_node)\n",
    "\n",
    "if path:\n",
    "    print(f\"The path from {start_node} to {goal_node} is: {path}\")\n",
    "else:\n",
    "    print(f\"No path found from {start_node} to {goal_node}.\")"
   ]
  }
 ],
 "metadata": {
  "kernelspec": {
   "display_name": "base",
   "language": "python",
   "name": "python3"
  },
  "language_info": {
   "codemirror_mode": {
    "name": "ipython",
    "version": 3
   },
   "file_extension": ".py",
   "mimetype": "text/x-python",
   "name": "python",
   "nbconvert_exporter": "python",
   "pygments_lexer": "ipython3",
   "version": "3.11.4"
  }
 },
 "nbformat": 4,
 "nbformat_minor": 2
}
